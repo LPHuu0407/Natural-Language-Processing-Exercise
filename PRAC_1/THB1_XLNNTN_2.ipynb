{
  "nbformat": 4,
  "nbformat_minor": 0,
  "metadata": {
    "colab": {
      "provenance": []
    },
    "kernelspec": {
      "name": "python3",
      "display_name": "Python 3"
    },
    "language_info": {
      "name": "python"
    }
  },
  "cells": [
    {
      "cell_type": "code",
      "execution_count": 2,
      "metadata": {
        "colab": {
          "base_uri": "https://localhost:8080/"
        },
        "id": "Duv9TXPw_BXh",
        "outputId": "a87e6759-f01d-4a92-a470-bd061838c6ca"
      },
      "outputs": [
        {
          "output_type": "stream",
          "name": "stdout",
          "text": [
            "Collecting underthesea\n",
            "  Downloading underthesea-6.8.0-py3-none-any.whl (20.9 MB)\n",
            "\u001b[2K     \u001b[90m━━━━━━━━━━━━━━━━━━━━━━━━━━━━━━━━━━━━━━━━\u001b[0m \u001b[32m20.9/20.9 MB\u001b[0m \u001b[31m38.8 MB/s\u001b[0m eta \u001b[36m0:00:00\u001b[0m\n",
            "\u001b[?25hRequirement already satisfied: Click>=6.0 in /usr/local/lib/python3.10/dist-packages (from underthesea) (8.1.7)\n",
            "Collecting python-crfsuite>=0.9.6 (from underthesea)\n",
            "  Downloading python_crfsuite-0.9.10-cp310-cp310-manylinux_2_17_x86_64.manylinux2014_x86_64.whl (1.1 MB)\n",
            "\u001b[2K     \u001b[90m━━━━━━━━━━━━━━━━━━━━━━━━━━━━━━━━━━━━━━━━\u001b[0m \u001b[32m1.1/1.1 MB\u001b[0m \u001b[31m46.3 MB/s\u001b[0m eta \u001b[36m0:00:00\u001b[0m\n",
            "\u001b[?25hRequirement already satisfied: nltk in /usr/local/lib/python3.10/dist-packages (from underthesea) (3.8.1)\n",
            "Requirement already satisfied: tqdm in /usr/local/lib/python3.10/dist-packages (from underthesea) (4.66.2)\n",
            "Requirement already satisfied: requests in /usr/local/lib/python3.10/dist-packages (from underthesea) (2.31.0)\n",
            "Requirement already satisfied: joblib in /usr/local/lib/python3.10/dist-packages (from underthesea) (1.3.2)\n",
            "Requirement already satisfied: scikit-learn in /usr/local/lib/python3.10/dist-packages (from underthesea) (1.2.2)\n",
            "Requirement already satisfied: PyYAML in /usr/local/lib/python3.10/dist-packages (from underthesea) (6.0.1)\n",
            "Collecting underthesea-core==1.0.4 (from underthesea)\n",
            "  Downloading underthesea_core-1.0.4-cp310-cp310-manylinux2010_x86_64.whl (657 kB)\n",
            "\u001b[2K     \u001b[90m━━━━━━━━━━━━━━━━━━━━━━━━━━━━━━━━━━━━━━━━\u001b[0m \u001b[32m657.8/657.8 kB\u001b[0m \u001b[31m37.8 MB/s\u001b[0m eta \u001b[36m0:00:00\u001b[0m\n",
            "\u001b[?25hRequirement already satisfied: regex>=2021.8.3 in /usr/local/lib/python3.10/dist-packages (from nltk->underthesea) (2023.12.25)\n",
            "Requirement already satisfied: charset-normalizer<4,>=2 in /usr/local/lib/python3.10/dist-packages (from requests->underthesea) (3.3.2)\n",
            "Requirement already satisfied: idna<4,>=2.5 in /usr/local/lib/python3.10/dist-packages (from requests->underthesea) (3.6)\n",
            "Requirement already satisfied: urllib3<3,>=1.21.1 in /usr/local/lib/python3.10/dist-packages (from requests->underthesea) (2.0.7)\n",
            "Requirement already satisfied: certifi>=2017.4.17 in /usr/local/lib/python3.10/dist-packages (from requests->underthesea) (2024.2.2)\n",
            "Requirement already satisfied: numpy>=1.17.3 in /usr/local/lib/python3.10/dist-packages (from scikit-learn->underthesea) (1.25.2)\n",
            "Requirement already satisfied: scipy>=1.3.2 in /usr/local/lib/python3.10/dist-packages (from scikit-learn->underthesea) (1.11.4)\n",
            "Requirement already satisfied: threadpoolctl>=2.0.0 in /usr/local/lib/python3.10/dist-packages (from scikit-learn->underthesea) (3.3.0)\n",
            "Installing collected packages: underthesea-core, python-crfsuite, underthesea\n",
            "Successfully installed python-crfsuite-0.9.10 underthesea-6.8.0 underthesea-core-1.0.4\n"
          ]
        }
      ],
      "source": [
        "pip install underthesea"
      ]
    },
    {
      "cell_type": "markdown",
      "source": [
        "4. Viết lệnh thể hiện các yêu cầu sau:"
      ],
      "metadata": {
        "id": "FBCt10Wx_jJa"
      }
    },
    {
      "cell_type": "code",
      "source": [
        "from underthesea import sent_tokenize, word_tokenize, pos_tag, chunk, classify, ner"
      ],
      "metadata": {
        "id": "_-4CT7-rANHg"
      },
      "execution_count": 3,
      "outputs": []
    },
    {
      "cell_type": "code",
      "source": [
        "Text_Football = \"\"\"HLV đầu tiên ở Premier League bị sa thải sau 4 vòng đấu\"\"\""
      ],
      "metadata": {
        "id": "e9zXtMHR_t-w"
      },
      "execution_count": 16,
      "outputs": []
    },
    {
      "cell_type": "code",
      "source": [
        "def token_text(textfile):\n",
        "  token_t = sent_tokenize(textfile)\n",
        "  return token_t"
      ],
      "metadata": {
        "id": "MGHEv9mtAbMc"
      },
      "execution_count": 17,
      "outputs": []
    },
    {
      "cell_type": "code",
      "source": [
        "def token_word(textfile):\n",
        "  token_w = word_tokenize(textfile)\n",
        "  return token_w"
      ],
      "metadata": {
        "id": "M2XaMFxfB1Tg"
      },
      "execution_count": 18,
      "outputs": []
    },
    {
      "cell_type": "code",
      "source": [
        "def pos_word(textfile):\n",
        "  pos = pos_tag(textfile)\n",
        "  return pos"
      ],
      "metadata": {
        "id": "uAIN5j6gCZpL"
      },
      "execution_count": 19,
      "outputs": []
    },
    {
      "cell_type": "code",
      "source": [
        "def chuck_word(textfile):\n",
        "  chuck_w = chunk(textfile)\n",
        "  return chuck_w"
      ],
      "metadata": {
        "id": "KhU5b-ZlI4r_"
      },
      "execution_count": 20,
      "outputs": []
    },
    {
      "cell_type": "code",
      "source": [
        "def ner_word(textfile):\n",
        "  ner_w = ner(textfile)\n",
        "  return ner_w"
      ],
      "metadata": {
        "id": "C6NgPSZIGAeT"
      },
      "execution_count": 21,
      "outputs": []
    },
    {
      "cell_type": "code",
      "source": [
        "def classify_text(textfile):\n",
        "  classify_t = classify(textfile)\n",
        "  return classify"
      ],
      "metadata": {
        "id": "rjj30423Gnax"
      },
      "execution_count": 22,
      "outputs": []
    },
    {
      "cell_type": "code",
      "source": [
        "test1 = token_text(Text_Football)\n",
        "test2 = token_word(Text_Football)\n",
        "test3 = pos_word(Text_Football)\n",
        "test4 = chuck_word(Text_Football)\n",
        "test5 = ner_word(Text_Football)\n",
        "test6 = classify_text(Text_Football)\n",
        "print(f\"{test1}\\n {test2}\\n {test3}\\n {test4}\\n {test5}\\n {test6}\\n\")\n"
      ],
      "metadata": {
        "colab": {
          "base_uri": "https://localhost:8080/"
        },
        "id": "xNUADjoZBHSh",
        "outputId": "de05a650-2cfe-44a9-8892-ba2e8b2688ff"
      },
      "execution_count": 24,
      "outputs": [
        {
          "output_type": "stream",
          "name": "stdout",
          "text": [
            "['HLV đầu tiên ở Premier League bị sa thải sau 4 vòng đấu']\n",
            " ['HLV', 'đầu tiên', 'ở', 'Premier League', 'bị', 'sa thải', 'sau', '4', 'vòng', 'đấu']\n",
            " [('HLV', 'Ny'), ('đầu tiên', 'A'), ('ở', 'E'), ('Premier League', 'Np'), ('bị', 'V'), ('sa thải', 'V'), ('sau', 'N'), ('4', 'M'), ('vòng', 'N'), ('đấu', 'V')]\n",
            " [('HLV', 'Ny', 'B-NP'), ('đầu tiên', 'A', 'B-AP'), ('ở', 'E', 'B-PP'), ('Premier League', 'Np', 'B-NP'), ('bị', 'V', 'B-VP'), ('sa thải', 'V', 'B-VP'), ('sau', 'N', 'B-NP'), ('4', 'M', 'B-NP'), ('vòng', 'N', 'B-NP'), ('đấu', 'V', 'B-VP')]\n",
            " [('HLV', 'Ny', 'B-NP', 'O'), ('đầu tiên', 'A', 'B-AP', 'O'), ('ở', 'E', 'B-PP', 'O'), ('Premier League', 'Np', 'B-NP', 'B-LOC'), ('bị', 'V', 'B-VP', 'O'), ('sa thải', 'V', 'B-VP', 'O'), ('sau', 'N', 'B-NP', 'O'), ('4', 'M', 'B-NP', 'O'), ('vòng', 'N', 'B-NP', 'O'), ('đấu', 'V', 'B-VP', 'O')]\n",
            " <function classify at 0x7a86c4afeb90>\n",
            "\n"
          ]
        }
      ]
    },
    {
      "cell_type": "code",
      "source": [],
      "metadata": {
        "id": "cv-fhRcH_4EM"
      },
      "execution_count": null,
      "outputs": []
    }
  ]
}